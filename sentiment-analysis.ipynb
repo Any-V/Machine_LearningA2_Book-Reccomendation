{
 "cells": [
  {
   "cell_type": "code",
   "id": "initial_id",
   "metadata": {
    "collapsed": true,
    "ExecuteTime": {
     "end_time": "2025-10-08T09:38:46.184931Z",
     "start_time": "2025-10-08T09:38:46.060981Z"
    }
   },
   "source": [
    "import pandas as pd\n",
    "\n",
    "books = pd.read_csv(\"books_with_categories.csv\")"
   ],
   "outputs": [],
   "execution_count": 1
  },
  {
   "metadata": {
    "ExecuteTime": {
     "end_time": "2025-10-08T09:44:12.284704Z",
     "start_time": "2025-10-08T09:44:09.454693Z"
    }
   },
   "cell_type": "code",
   "source": [
    "from transformers import pipeline\n",
    "classifier = pipeline(\"text-classification\", model=\"j-hartmann/emotion-english-distilroberta-base\",\n",
    "                top_k = None)\n",
    "classifier(\"I love this!\")\n"
   ],
   "id": "ee5e5b6431b9d9f2",
   "outputs": [
    {
     "name": "stderr",
     "output_type": "stream",
     "text": [
      "Device set to use cpu\n"
     ]
    },
    {
     "data": {
      "text/plain": [
       "[[{'label': 'joy', 'score': 0.9771687984466553},\n",
       "  {'label': 'surprise', 'score': 0.008528691716492176},\n",
       "  {'label': 'neutral', 'score': 0.005764591973274946},\n",
       "  {'label': 'anger', 'score': 0.004419791977852583},\n",
       "  {'label': 'sadness', 'score': 0.002092391485348344},\n",
       "  {'label': 'disgust', 'score': 0.001611991785466671},\n",
       "  {'label': 'fear', 'score': 0.0004138525982853025}]]"
      ]
     },
     "execution_count": 7,
     "metadata": {},
     "output_type": "execute_result"
    }
   ],
   "execution_count": 7
  },
  {
   "metadata": {
    "ExecuteTime": {
     "end_time": "2025-10-08T09:44:27.643507Z",
     "start_time": "2025-10-08T09:44:27.631349Z"
    }
   },
   "cell_type": "code",
   "source": "books[\"description\"][0]",
   "id": "65b8a54b246cf82c",
   "outputs": [
    {
     "data": {
      "text/plain": [
       "\"Wherever vampires existed in the imaginations of different peoples, they adapted themselves to the customs of the local culture. In The Vampyre (1819), John Polidori introduced Lord Ruthven and established the vampire craze of the 19th century that resulted in a flood of German vampire poetry, French vampire drama, and British vampire fiction. That tradition culminated in Bram Stoker's Dracula (1897), which fixed the character of the Transylvanian nobleman firmly in the public imagination. The contributors to this volume examine representations of the vampire in fiction, film, folklore, and popular culture. While some look at Stoker and the early literary vampire, others study the works of contemporary writers, such as Anne Rice and Chelsea Quinn Yarbro, vampirism as a metaphor for AIDS, and racial issues in such films as Blacula and Vampire in Brooklyn.\""
      ]
     },
     "execution_count": 8,
     "metadata": {},
     "output_type": "execute_result"
    }
   ],
   "execution_count": 8
  },
  {
   "metadata": {
    "ExecuteTime": {
     "end_time": "2025-10-08T09:44:35.297376Z",
     "start_time": "2025-10-08T09:44:34.597232Z"
    }
   },
   "cell_type": "code",
   "source": "classifier(books[\"description\"][0])",
   "id": "1f50e61f78801b44",
   "outputs": [
    {
     "data": {
      "text/plain": [
       "[[{'label': 'neutral', 'score': 0.92280513048172},\n",
       "  {'label': 'disgust', 'score': 0.04072585701942444},\n",
       "  {'label': 'surprise', 'score': 0.009073406457901001},\n",
       "  {'label': 'anger', 'score': 0.008625977672636509},\n",
       "  {'label': 'joy', 'score': 0.008150245063006878},\n",
       "  {'label': 'sadness', 'score': 0.005839737597852945},\n",
       "  {'label': 'fear', 'score': 0.004779730923473835}]]"
      ]
     },
     "execution_count": 9,
     "metadata": {},
     "output_type": "execute_result"
    }
   ],
   "execution_count": 9
  },
  {
   "metadata": {
    "ExecuteTime": {
     "end_time": "2025-10-08T09:44:44.025390Z",
     "start_time": "2025-10-08T09:44:42.645779Z"
    }
   },
   "cell_type": "code",
   "source": "classifier(books[\"description\"][0].split(\".\"))",
   "id": "bb13dbdcc3a752eb",
   "outputs": [
    {
     "data": {
      "text/plain": [
       "[[{'label': 'neutral', 'score': 0.9419255256652832},\n",
       "  {'label': 'disgust', 'score': 0.02227594330906868},\n",
       "  {'label': 'surprise', 'score': 0.015818241983652115},\n",
       "  {'label': 'anger', 'score': 0.007370933424681425},\n",
       "  {'label': 'fear', 'score': 0.0049009122885763645},\n",
       "  {'label': 'sadness', 'score': 0.004131002351641655},\n",
       "  {'label': 'joy', 'score': 0.0035773986019194126}],\n",
       " [{'label': 'neutral', 'score': 0.5492900609970093},\n",
       "  {'label': 'fear', 'score': 0.1632189303636551},\n",
       "  {'label': 'joy', 'score': 0.11766987293958664},\n",
       "  {'label': 'disgust', 'score': 0.08219169080257416},\n",
       "  {'label': 'surprise', 'score': 0.04129414260387421},\n",
       "  {'label': 'anger', 'score': 0.028625907376408577},\n",
       "  {'label': 'sadness', 'score': 0.017709409818053246}],\n",
       " [{'label': 'neutral', 'score': 0.6833586096763611},\n",
       "  {'label': 'fear', 'score': 0.16969908773899078},\n",
       "  {'label': 'joy', 'score': 0.05228540301322937},\n",
       "  {'label': 'disgust', 'score': 0.03609594330191612},\n",
       "  {'label': 'surprise', 'score': 0.031033407896757126},\n",
       "  {'label': 'anger', 'score': 0.01453126035630703},\n",
       "  {'label': 'sadness', 'score': 0.01299632340669632}],\n",
       " [{'label': 'neutral', 'score': 0.918022096157074},\n",
       "  {'label': 'joy', 'score': 0.028421543538570404},\n",
       "  {'label': 'surprise', 'score': 0.025566335767507553},\n",
       "  {'label': 'disgust', 'score': 0.013455589301884174},\n",
       "  {'label': 'anger', 'score': 0.005744090303778648},\n",
       "  {'label': 'fear', 'score': 0.00462684128433466},\n",
       "  {'label': 'sadness', 'score': 0.004163533914834261}],\n",
       " [{'label': 'neutral', 'score': 0.8278841376304626},\n",
       "  {'label': 'disgust', 'score': 0.11760924011468887},\n",
       "  {'label': 'sadness', 'score': 0.01731950044631958},\n",
       "  {'label': 'anger', 'score': 0.016139622777700424},\n",
       "  {'label': 'fear', 'score': 0.008922302164137363},\n",
       "  {'label': 'surprise', 'score': 0.006512759253382683},\n",
       "  {'label': 'joy', 'score': 0.005612513516098261}],\n",
       " [{'label': 'neutral', 'score': 0.5494765639305115},\n",
       "  {'label': 'sadness', 'score': 0.11169017851352692},\n",
       "  {'label': 'disgust', 'score': 0.10400674492120743},\n",
       "  {'label': 'surprise', 'score': 0.07876548916101456},\n",
       "  {'label': 'anger', 'score': 0.06413368880748749},\n",
       "  {'label': 'fear', 'score': 0.05136285722255707},\n",
       "  {'label': 'joy', 'score': 0.040564440190792084}]]"
      ]
     },
     "execution_count": 10,
     "metadata": {},
     "output_type": "execute_result"
    }
   ],
   "execution_count": 10
  },
  {
   "metadata": {
    "ExecuteTime": {
     "end_time": "2025-10-08T09:44:52.040002Z",
     "start_time": "2025-10-08T09:44:50.904950Z"
    }
   },
   "cell_type": "code",
   "source": [
    "sentences = books[\"description\"][0].split(\".\")\n",
    "predictions = classifier(sentences)"
   ],
   "id": "2a75beddbe1acf9",
   "outputs": [],
   "execution_count": 11
  },
  {
   "metadata": {
    "ExecuteTime": {
     "end_time": "2025-10-08T09:44:57.170754Z",
     "start_time": "2025-10-08T09:44:57.160535Z"
    }
   },
   "cell_type": "code",
   "source": "sentences[0]",
   "id": "91733a711fc9d9ac",
   "outputs": [
    {
     "data": {
      "text/plain": [
       "'Wherever vampires existed in the imaginations of different peoples, they adapted themselves to the customs of the local culture'"
      ]
     },
     "execution_count": 12,
     "metadata": {},
     "output_type": "execute_result"
    }
   ],
   "execution_count": 12
  },
  {
   "metadata": {
    "ExecuteTime": {
     "end_time": "2025-10-08T09:45:04.252649Z",
     "start_time": "2025-10-08T09:45:04.242441Z"
    }
   },
   "cell_type": "code",
   "source": "predictions[0]",
   "id": "4d9bb04821e4e87c",
   "outputs": [
    {
     "data": {
      "text/plain": [
       "[{'label': 'neutral', 'score': 0.9419255256652832},\n",
       " {'label': 'disgust', 'score': 0.02227594330906868},\n",
       " {'label': 'surprise', 'score': 0.015818241983652115},\n",
       " {'label': 'anger', 'score': 0.007370933424681425},\n",
       " {'label': 'fear', 'score': 0.0049009122885763645},\n",
       " {'label': 'sadness', 'score': 0.004131002351641655},\n",
       " {'label': 'joy', 'score': 0.0035773986019194126}]"
      ]
     },
     "execution_count": 13,
     "metadata": {},
     "output_type": "execute_result"
    }
   ],
   "execution_count": 13
  },
  {
   "metadata": {
    "ExecuteTime": {
     "end_time": "2025-10-08T09:45:20.847594Z",
     "start_time": "2025-10-08T09:45:20.838009Z"
    }
   },
   "cell_type": "code",
   "source": "sentences[3]",
   "id": "6e8f74039a10ccbf",
   "outputs": [
    {
     "data": {
      "text/plain": [
       "' The contributors to this volume examine representations of the vampire in fiction, film, folklore, and popular culture'"
      ]
     },
     "execution_count": 14,
     "metadata": {},
     "output_type": "execute_result"
    }
   ],
   "execution_count": 14
  },
  {
   "metadata": {
    "ExecuteTime": {
     "end_time": "2025-10-08T09:45:28.473687Z",
     "start_time": "2025-10-08T09:45:28.461208Z"
    }
   },
   "cell_type": "code",
   "source": "predictions[3]",
   "id": "91f08c0b56dcab02",
   "outputs": [
    {
     "data": {
      "text/plain": [
       "[{'label': 'neutral', 'score': 0.918022096157074},\n",
       " {'label': 'joy', 'score': 0.028421543538570404},\n",
       " {'label': 'surprise', 'score': 0.025566335767507553},\n",
       " {'label': 'disgust', 'score': 0.013455589301884174},\n",
       " {'label': 'anger', 'score': 0.005744090303778648},\n",
       " {'label': 'fear', 'score': 0.00462684128433466},\n",
       " {'label': 'sadness', 'score': 0.004163533914834261}]"
      ]
     },
     "execution_count": 15,
     "metadata": {},
     "output_type": "execute_result"
    }
   ],
   "execution_count": 15
  },
  {
   "metadata": {
    "ExecuteTime": {
     "end_time": "2025-10-08T09:45:35.584739Z",
     "start_time": "2025-10-08T09:45:35.566564Z"
    }
   },
   "cell_type": "code",
   "source": "predictions",
   "id": "44dc7f9e412d60d7",
   "outputs": [
    {
     "data": {
      "text/plain": [
       "[[{'label': 'neutral', 'score': 0.9419255256652832},\n",
       "  {'label': 'disgust', 'score': 0.02227594330906868},\n",
       "  {'label': 'surprise', 'score': 0.015818241983652115},\n",
       "  {'label': 'anger', 'score': 0.007370933424681425},\n",
       "  {'label': 'fear', 'score': 0.0049009122885763645},\n",
       "  {'label': 'sadness', 'score': 0.004131002351641655},\n",
       "  {'label': 'joy', 'score': 0.0035773986019194126}],\n",
       " [{'label': 'neutral', 'score': 0.5492900609970093},\n",
       "  {'label': 'fear', 'score': 0.1632189303636551},\n",
       "  {'label': 'joy', 'score': 0.11766987293958664},\n",
       "  {'label': 'disgust', 'score': 0.08219169080257416},\n",
       "  {'label': 'surprise', 'score': 0.04129414260387421},\n",
       "  {'label': 'anger', 'score': 0.028625907376408577},\n",
       "  {'label': 'sadness', 'score': 0.017709409818053246}],\n",
       " [{'label': 'neutral', 'score': 0.6833586096763611},\n",
       "  {'label': 'fear', 'score': 0.16969908773899078},\n",
       "  {'label': 'joy', 'score': 0.05228540301322937},\n",
       "  {'label': 'disgust', 'score': 0.03609594330191612},\n",
       "  {'label': 'surprise', 'score': 0.031033407896757126},\n",
       "  {'label': 'anger', 'score': 0.01453126035630703},\n",
       "  {'label': 'sadness', 'score': 0.01299632340669632}],\n",
       " [{'label': 'neutral', 'score': 0.918022096157074},\n",
       "  {'label': 'joy', 'score': 0.028421543538570404},\n",
       "  {'label': 'surprise', 'score': 0.025566335767507553},\n",
       "  {'label': 'disgust', 'score': 0.013455589301884174},\n",
       "  {'label': 'anger', 'score': 0.005744090303778648},\n",
       "  {'label': 'fear', 'score': 0.00462684128433466},\n",
       "  {'label': 'sadness', 'score': 0.004163533914834261}],\n",
       " [{'label': 'neutral', 'score': 0.8278841376304626},\n",
       "  {'label': 'disgust', 'score': 0.11760924011468887},\n",
       "  {'label': 'sadness', 'score': 0.01731950044631958},\n",
       "  {'label': 'anger', 'score': 0.016139622777700424},\n",
       "  {'label': 'fear', 'score': 0.008922302164137363},\n",
       "  {'label': 'surprise', 'score': 0.006512759253382683},\n",
       "  {'label': 'joy', 'score': 0.005612513516098261}],\n",
       " [{'label': 'neutral', 'score': 0.5494765639305115},\n",
       "  {'label': 'sadness', 'score': 0.11169017851352692},\n",
       "  {'label': 'disgust', 'score': 0.10400674492120743},\n",
       "  {'label': 'surprise', 'score': 0.07876548916101456},\n",
       "  {'label': 'anger', 'score': 0.06413368880748749},\n",
       "  {'label': 'fear', 'score': 0.05136285722255707},\n",
       "  {'label': 'joy', 'score': 0.040564440190792084}]]"
      ]
     },
     "execution_count": 16,
     "metadata": {},
     "output_type": "execute_result"
    }
   ],
   "execution_count": 16
  },
  {
   "metadata": {
    "ExecuteTime": {
     "end_time": "2025-10-08T09:45:49.387883Z",
     "start_time": "2025-10-08T09:45:49.376272Z"
    }
   },
   "cell_type": "code",
   "source": "sorted(predictions[0], key=lambda x: x[\"label\"])",
   "id": "df739c322d741583",
   "outputs": [
    {
     "data": {
      "text/plain": [
       "[{'label': 'anger', 'score': 0.007370933424681425},\n",
       " {'label': 'disgust', 'score': 0.02227594330906868},\n",
       " {'label': 'fear', 'score': 0.0049009122885763645},\n",
       " {'label': 'joy', 'score': 0.0035773986019194126},\n",
       " {'label': 'neutral', 'score': 0.9419255256652832},\n",
       " {'label': 'sadness', 'score': 0.004131002351641655},\n",
       " {'label': 'surprise', 'score': 0.015818241983652115}]"
      ]
     },
     "execution_count": 17,
     "metadata": {},
     "output_type": "execute_result"
    }
   ],
   "execution_count": 17
  },
  {
   "metadata": {
    "ExecuteTime": {
     "end_time": "2025-10-08T09:45:57.534766Z",
     "start_time": "2025-10-08T09:45:57.524341Z"
    }
   },
   "cell_type": "code",
   "source": [
    "import numpy as np\n",
    "\n",
    "emotion_labels = [\"anger\", \"disgust\", \"fear\", \"joy\", \"sadness\", \"surprise\", \"neutral\"]\n",
    "isbn = []\n",
    "emotion_scores = {label: [] for label in emotion_labels}\n",
    "\n",
    "def calculate_max_emotion_scores(predictions):\n",
    "    per_emotion_scores = {label: [] for label in emotion_labels}\n",
    "    for prediction in predictions:\n",
    "        sorted_predictions = sorted(prediction, key=lambda x: x[\"label\"])\n",
    "        for index, label in enumerate(emotion_labels):\n",
    "            per_emotion_scores[label].append(sorted_predictions[index][\"score\"])\n",
    "    return {label: np.max(scores) for label, scores in per_emotion_scores.items()}"
   ],
   "id": "5dc5388e392ad87a",
   "outputs": [],
   "execution_count": 18
  },
  {
   "metadata": {
    "ExecuteTime": {
     "end_time": "2025-10-08T09:46:09.089380Z",
     "start_time": "2025-10-08T09:46:03.573522Z"
    }
   },
   "cell_type": "code",
   "source": [
    "for i in range(10):\n",
    "    isbn.append(books[\"isbn13\"][i])\n",
    "    sentences = books[\"description\"][i].split(\".\")\n",
    "    predictions = classifier(sentences)\n",
    "    max_scores = calculate_max_emotion_scores(predictions)\n",
    "    for label in emotion_labels:\n",
    "        emotion_scores[label].append(max_scores[label])"
   ],
   "id": "846dded754acec1a",
   "outputs": [],
   "execution_count": 19
  },
  {
   "metadata": {
    "ExecuteTime": {
     "end_time": "2025-10-08T09:46:14.747644Z",
     "start_time": "2025-10-08T09:46:14.734215Z"
    }
   },
   "cell_type": "code",
   "source": "emotion_scores",
   "id": "48fb46bf36d7f383",
   "outputs": [
    {
     "data": {
      "text/plain": [
       "{'anger': [np.float64(0.06413368880748749),\n",
       "  np.float64(0.23667806386947632),\n",
       "  np.float64(0.06413368880748749),\n",
       "  np.float64(0.06413368880748749),\n",
       "  np.float64(0.06413368880748749),\n",
       "  np.float64(0.39806678891181946),\n",
       "  np.float64(0.9820885062217712),\n",
       "  np.float64(0.06413368880748749),\n",
       "  np.float64(0.17247481644153595),\n",
       "  np.float64(0.06413368880748749)],\n",
       " 'disgust': [np.float64(0.11760924011468887),\n",
       "  np.float64(0.5366867780685425),\n",
       "  np.float64(0.10400674492120743),\n",
       "  np.float64(0.10400674492120743),\n",
       "  np.float64(0.10400674492120743),\n",
       "  np.float64(0.146275132894516),\n",
       "  np.float64(0.10400674492120743),\n",
       "  np.float64(0.10400674492120743),\n",
       "  np.float64(0.1786012053489685),\n",
       "  np.float64(0.10400674492120743)],\n",
       " 'fear': [np.float64(0.16969908773899078),\n",
       "  np.float64(0.11707170307636261),\n",
       "  np.float64(0.07285387814044952),\n",
       "  np.float64(0.05136285722255707),\n",
       "  np.float64(0.05136285722255707),\n",
       "  np.float64(0.2140340805053711),\n",
       "  np.float64(0.05136285722255707),\n",
       "  np.float64(0.05795316398143768),\n",
       "  np.float64(0.7027420401573181),\n",
       "  np.float64(0.593427300453186)],\n",
       " 'joy': [np.float64(0.11766987293958664),\n",
       "  np.float64(0.0631713718175888),\n",
       "  np.float64(0.040564440190792084),\n",
       "  np.float64(0.040564440190792084),\n",
       "  np.float64(0.9318848848342896),\n",
       "  np.float64(0.7303556799888611),\n",
       "  np.float64(0.04079202562570572),\n",
       "  np.float64(0.040564440190792084),\n",
       "  np.float64(0.040564440190792084),\n",
       "  np.float64(0.040564440190792084)],\n",
       " 'sadness': [np.float64(0.9419255256652832),\n",
       "  np.float64(0.9280436635017395),\n",
       "  np.float64(0.5494765639305115),\n",
       "  np.float64(0.9368456602096558),\n",
       "  np.float64(0.8859221339225769),\n",
       "  np.float64(0.954562246799469),\n",
       "  np.float64(0.7991623878479004),\n",
       "  np.float64(0.7343531250953674),\n",
       "  np.float64(0.8549786806106567),\n",
       "  np.float64(0.5494765639305115)],\n",
       " 'surprise': [np.float64(0.11169017851352692),\n",
       "  np.float64(0.11169017851352692),\n",
       "  np.float64(0.8216854333877563),\n",
       "  np.float64(0.11169017851352692),\n",
       "  np.float64(0.11169017851352692),\n",
       "  np.float64(0.11169017851352692),\n",
       "  np.float64(0.11169017851352692),\n",
       "  np.float64(0.11169017851352692),\n",
       "  np.float64(0.11169017851352692),\n",
       "  np.float64(0.23773981630802155)],\n",
       " 'neutral': [np.float64(0.07876548916101456),\n",
       "  np.float64(0.2103090137243271),\n",
       "  np.float64(0.07876548916101456),\n",
       "  np.float64(0.9781959056854248),\n",
       "  np.float64(0.07876548916101456),\n",
       "  np.float64(0.38968315720558167),\n",
       "  np.float64(0.12502101063728333),\n",
       "  np.float64(0.07876548916101456),\n",
       "  np.float64(0.09797985851764679),\n",
       "  np.float64(0.07876548916101456)]}"
      ]
     },
     "execution_count": 20,
     "metadata": {},
     "output_type": "execute_result"
    }
   ],
   "execution_count": 20
  },
  {
   "metadata": {
    "ExecuteTime": {
     "end_time": "2025-10-08T10:04:09.873864Z",
     "start_time": "2025-10-08T09:47:31.528015Z"
    }
   },
   "cell_type": "code",
   "source": [
    "from tqdm import tqdm\n",
    "\n",
    "emotion_labels = [\"anger\", \"disgust\", \"fear\", \"joy\", \"sadness\", \"surprise\", \"neutral\"]\n",
    "isbn = []\n",
    "emotion_scores = {label: [] for label in emotion_labels}\n",
    "\n",
    "for i in tqdm(range(len(books))):\n",
    "    isbn.append(books[\"isbn13\"][i])\n",
    "    sentences = books[\"description\"][i].split(\".\")\n",
    "    predictions = classifier(sentences)\n",
    "    max_scores = calculate_max_emotion_scores(predictions)\n",
    "    for label in emotion_labels:\n",
    "        emotion_scores[label].append(max_scores[label])"
   ],
   "id": "9a4390cae1ade90f",
   "outputs": [
    {
     "name": "stderr",
     "output_type": "stream",
     "text": [
      "100%|██████████| 2598/2598 [16:38<00:00,  2.60it/s]\n"
     ]
    }
   ],
   "execution_count": 21
  },
  {
   "metadata": {
    "ExecuteTime": {
     "end_time": "2025-10-08T10:04:09.984648Z",
     "start_time": "2025-10-08T10:04:09.958047Z"
    }
   },
   "cell_type": "code",
   "source": [
    "emotions_df = pd.DataFrame(emotion_scores)\n",
    "emotions_df[\"isbn13\"] = isbn"
   ],
   "id": "7a4c0f79097734c0",
   "outputs": [],
   "execution_count": 22
  },
  {
   "metadata": {
    "ExecuteTime": {
     "end_time": "2025-10-08T10:04:10.073844Z",
     "start_time": "2025-10-08T10:04:10.039682Z"
    }
   },
   "cell_type": "code",
   "source": "emotions_df",
   "id": "32badfafceadfaee",
   "outputs": [
    {
     "data": {
      "text/plain": [
       "         anger   disgust      fear       joy   sadness  surprise   neutral  \\\n",
       "0     0.064134  0.117609  0.169699  0.117670  0.941926  0.111690  0.078765   \n",
       "1     0.236678  0.536687  0.117072  0.063171  0.928044  0.111690  0.210309   \n",
       "2     0.064134  0.104007  0.072854  0.040564  0.549477  0.821685  0.078765   \n",
       "3     0.064134  0.104007  0.051363  0.040564  0.936846  0.111690  0.978196   \n",
       "4     0.064134  0.104007  0.051363  0.931885  0.885922  0.111690  0.078765   \n",
       "...        ...       ...       ...       ...       ...       ...       ...   \n",
       "2593  0.064134  0.104007  0.051363  0.040564  0.807826  0.111690  0.078765   \n",
       "2594  0.064134  0.104007  0.953250  0.040564  0.950357  0.111690  0.078765   \n",
       "2595  0.064134  0.104007  0.051363  0.989315  0.549477  0.111690  0.078765   \n",
       "2596  0.102184  0.104007  0.821058  0.990095  0.549477  0.111690  0.197905   \n",
       "2597  0.070287  0.117117  0.075183  0.124826  0.933635  0.073338  0.116090   \n",
       "\n",
       "             isbn13  \n",
       "0     9780313309335  \n",
       "1     9780020442608  \n",
       "2     9780719071157  \n",
       "3     9780373483372  \n",
       "4     9781904633273  \n",
       "...             ...  \n",
       "2593  9780618254118  \n",
       "2594  9780345441034  \n",
       "2595  9780810954809  \n",
       "2596  9780060777333  \n",
       "2597  9780764134289  \n",
       "\n",
       "[2598 rows x 8 columns]"
      ],
      "text/html": [
       "<div>\n",
       "<style scoped>\n",
       "    .dataframe tbody tr th:only-of-type {\n",
       "        vertical-align: middle;\n",
       "    }\n",
       "\n",
       "    .dataframe tbody tr th {\n",
       "        vertical-align: top;\n",
       "    }\n",
       "\n",
       "    .dataframe thead th {\n",
       "        text-align: right;\n",
       "    }\n",
       "</style>\n",
       "<table border=\"1\" class=\"dataframe\">\n",
       "  <thead>\n",
       "    <tr style=\"text-align: right;\">\n",
       "      <th></th>\n",
       "      <th>anger</th>\n",
       "      <th>disgust</th>\n",
       "      <th>fear</th>\n",
       "      <th>joy</th>\n",
       "      <th>sadness</th>\n",
       "      <th>surprise</th>\n",
       "      <th>neutral</th>\n",
       "      <th>isbn13</th>\n",
       "    </tr>\n",
       "  </thead>\n",
       "  <tbody>\n",
       "    <tr>\n",
       "      <th>0</th>\n",
       "      <td>0.064134</td>\n",
       "      <td>0.117609</td>\n",
       "      <td>0.169699</td>\n",
       "      <td>0.117670</td>\n",
       "      <td>0.941926</td>\n",
       "      <td>0.111690</td>\n",
       "      <td>0.078765</td>\n",
       "      <td>9780313309335</td>\n",
       "    </tr>\n",
       "    <tr>\n",
       "      <th>1</th>\n",
       "      <td>0.236678</td>\n",
       "      <td>0.536687</td>\n",
       "      <td>0.117072</td>\n",
       "      <td>0.063171</td>\n",
       "      <td>0.928044</td>\n",
       "      <td>0.111690</td>\n",
       "      <td>0.210309</td>\n",
       "      <td>9780020442608</td>\n",
       "    </tr>\n",
       "    <tr>\n",
       "      <th>2</th>\n",
       "      <td>0.064134</td>\n",
       "      <td>0.104007</td>\n",
       "      <td>0.072854</td>\n",
       "      <td>0.040564</td>\n",
       "      <td>0.549477</td>\n",
       "      <td>0.821685</td>\n",
       "      <td>0.078765</td>\n",
       "      <td>9780719071157</td>\n",
       "    </tr>\n",
       "    <tr>\n",
       "      <th>3</th>\n",
       "      <td>0.064134</td>\n",
       "      <td>0.104007</td>\n",
       "      <td>0.051363</td>\n",
       "      <td>0.040564</td>\n",
       "      <td>0.936846</td>\n",
       "      <td>0.111690</td>\n",
       "      <td>0.978196</td>\n",
       "      <td>9780373483372</td>\n",
       "    </tr>\n",
       "    <tr>\n",
       "      <th>4</th>\n",
       "      <td>0.064134</td>\n",
       "      <td>0.104007</td>\n",
       "      <td>0.051363</td>\n",
       "      <td>0.931885</td>\n",
       "      <td>0.885922</td>\n",
       "      <td>0.111690</td>\n",
       "      <td>0.078765</td>\n",
       "      <td>9781904633273</td>\n",
       "    </tr>\n",
       "    <tr>\n",
       "      <th>...</th>\n",
       "      <td>...</td>\n",
       "      <td>...</td>\n",
       "      <td>...</td>\n",
       "      <td>...</td>\n",
       "      <td>...</td>\n",
       "      <td>...</td>\n",
       "      <td>...</td>\n",
       "      <td>...</td>\n",
       "    </tr>\n",
       "    <tr>\n",
       "      <th>2593</th>\n",
       "      <td>0.064134</td>\n",
       "      <td>0.104007</td>\n",
       "      <td>0.051363</td>\n",
       "      <td>0.040564</td>\n",
       "      <td>0.807826</td>\n",
       "      <td>0.111690</td>\n",
       "      <td>0.078765</td>\n",
       "      <td>9780618254118</td>\n",
       "    </tr>\n",
       "    <tr>\n",
       "      <th>2594</th>\n",
       "      <td>0.064134</td>\n",
       "      <td>0.104007</td>\n",
       "      <td>0.953250</td>\n",
       "      <td>0.040564</td>\n",
       "      <td>0.950357</td>\n",
       "      <td>0.111690</td>\n",
       "      <td>0.078765</td>\n",
       "      <td>9780345441034</td>\n",
       "    </tr>\n",
       "    <tr>\n",
       "      <th>2595</th>\n",
       "      <td>0.064134</td>\n",
       "      <td>0.104007</td>\n",
       "      <td>0.051363</td>\n",
       "      <td>0.989315</td>\n",
       "      <td>0.549477</td>\n",
       "      <td>0.111690</td>\n",
       "      <td>0.078765</td>\n",
       "      <td>9780810954809</td>\n",
       "    </tr>\n",
       "    <tr>\n",
       "      <th>2596</th>\n",
       "      <td>0.102184</td>\n",
       "      <td>0.104007</td>\n",
       "      <td>0.821058</td>\n",
       "      <td>0.990095</td>\n",
       "      <td>0.549477</td>\n",
       "      <td>0.111690</td>\n",
       "      <td>0.197905</td>\n",
       "      <td>9780060777333</td>\n",
       "    </tr>\n",
       "    <tr>\n",
       "      <th>2597</th>\n",
       "      <td>0.070287</td>\n",
       "      <td>0.117117</td>\n",
       "      <td>0.075183</td>\n",
       "      <td>0.124826</td>\n",
       "      <td>0.933635</td>\n",
       "      <td>0.073338</td>\n",
       "      <td>0.116090</td>\n",
       "      <td>9780764134289</td>\n",
       "    </tr>\n",
       "  </tbody>\n",
       "</table>\n",
       "<p>2598 rows × 8 columns</p>\n",
       "</div>"
      ]
     },
     "execution_count": 23,
     "metadata": {},
     "output_type": "execute_result"
    }
   ],
   "execution_count": 23
  },
  {
   "metadata": {
    "ExecuteTime": {
     "end_time": "2025-10-08T10:04:10.211661Z",
     "start_time": "2025-10-08T10:04:10.194068Z"
    }
   },
   "cell_type": "code",
   "source": "books = pd.merge(books, emotions_df, on = \"isbn13\")",
   "id": "86bf3d68d197e2eb",
   "outputs": [],
   "execution_count": 24
  },
  {
   "metadata": {
    "ExecuteTime": {
     "end_time": "2025-10-08T10:04:10.309556Z",
     "start_time": "2025-10-08T10:04:10.258315Z"
    }
   },
   "cell_type": "code",
   "source": "books",
   "id": "3a65a95e50aebbe2",
   "outputs": [
    {
     "data": {
      "text/plain": [
       "             isbn13      isbn10                                title  \\\n",
       "0     9780313309335  0313309337                The Fantastic Vampire   \n",
       "1     9780020442608  0020442602       The voyage of the Dawn Treader   \n",
       "2     9780719071157  0719071151                  A Farewell to Arms?   \n",
       "3     9780373483372  0373483376                  Tallchief for Keeps   \n",
       "4     9781904633273  1904633277                         Little Women   \n",
       "...             ...         ...                                  ...   \n",
       "2593  9780618254118  0618254110                       Queen of Scots   \n",
       "2594  9780345441034  0345441036                          Black House   \n",
       "2595  9780810954809  081095480X                  The Lighthouse Land   \n",
       "2596  9780060777333  0060777338                    The Cat's Pajamas   \n",
       "2597  9780764134289  0764134280  American Sign Language The Easy Way   \n",
       "\n",
       "                                                authors  \\\n",
       "0                                     James Craig Holte   \n",
       "1                                   Clive Staples Lewis   \n",
       "2               Michael Cox;Adrian Guelke;Fiona Stephen   \n",
       "3                                           Cait London   \n",
       "4                                     Louisa May Alcott   \n",
       "...                                                 ...   \n",
       "2593                                 John Alexander Guy   \n",
       "2594                          Stephen King;Peter Straub   \n",
       "2595                                     Adrian McKinty   \n",
       "2596                                       Ray Bradbury   \n",
       "2597  David A. Stewart;Elizabeth Stewart;Jessalyn Li...   \n",
       "\n",
       "                       categories  \\\n",
       "0              Literary Criticism   \n",
       "1                Juvenile Fiction   \n",
       "2                         History   \n",
       "3                         Fiction   \n",
       "4                     Family life   \n",
       "...                           ...   \n",
       "2593                      History   \n",
       "2594                      Fiction   \n",
       "2595             Juvenile Fiction   \n",
       "2596                      Fiction   \n",
       "2597  Language Arts & Disciplines   \n",
       "\n",
       "                                              thumbnail  \\\n",
       "0     http://books.google.com/books/content?id=mpmrW...   \n",
       "1     http://books.google.com/books/content?id=fDD3C...   \n",
       "2     http://books.google.com/books/content?id=G5wuw...   \n",
       "3     http://books.google.com/books/content?id=Vn8lm...   \n",
       "4     http://books.google.com/books/content?id=lH7BZ...   \n",
       "...                                                 ...   \n",
       "2593  http://books.google.com/books/content?id=PmqqA...   \n",
       "2594  http://books.google.com/books/content?id=SdqhE...   \n",
       "2595  http://books.google.com/books/content?id=dhRJA...   \n",
       "2596  http://books.google.com/books/content?id=Xb6MU...   \n",
       "2597  http://books.google.com/books/content?id=QrR4_...   \n",
       "\n",
       "                                            description  published_year  \\\n",
       "0     Wherever vampires existed in the imaginations ...          2002.0   \n",
       "1     The \"Dawn Treader\" is the first ship Narnia ha...          1970.0   \n",
       "2     Neither naively optimistic nor hopelessley pes...          2006.0   \n",
       "3     Everyone in Amen Flats is shocked when prim El...          1997.0   \n",
       "4     Timeless in its evocation of idealised family ...          2004.0   \n",
       "...                                                 ...             ...   \n",
       "2593  A new historian of Mary Queen of Scots draws o...          2004.0   \n",
       "2594  A retired Los Angeles homicide detective livin...          2001.0   \n",
       "2595  Thirteen-year-old Jamie is overjoyed when a be...          2006.0   \n",
       "2596  From the winner of the National Book Foundatio...          2005.0   \n",
       "2597  (back cover) ALL THE ESSENTIALS IN ONE CLEAR V...          2006.0   \n",
       "\n",
       "      average_rating  num_pages  ...  \\\n",
       "0               0.00      176.0  ...   \n",
       "1               4.09      216.0  ...   \n",
       "2               4.33      624.0  ...   \n",
       "3               4.22      296.0  ...   \n",
       "4               4.06      327.0  ...   \n",
       "...              ...        ...  ...   \n",
       "2593            3.95      581.0  ...   \n",
       "2594            4.00      659.0  ...   \n",
       "2595            3.60      372.0  ...   \n",
       "2596            3.73      234.0  ...   \n",
       "2597            3.72      480.0  ...   \n",
       "\n",
       "                                     title_and_subtitle  \\\n",
       "0     The Fantastic Vampire: Studies in the Children...   \n",
       "1                        The voyage of the Dawn Treader   \n",
       "2     A Farewell to Arms?: Beyond the Good Friday Ag...   \n",
       "3                                   Tallchief for Keeps   \n",
       "4                                          Little Women   \n",
       "...                                                 ...   \n",
       "2593       Queen of Scots: The True Life of Mary Stuart   \n",
       "2594                                        Black House   \n",
       "2595                                The Lighthouse Land   \n",
       "2596                         The Cat's Pajamas: Stories   \n",
       "2597                American Sign Language The Easy Way   \n",
       "\n",
       "                                     tagged_description   simple_categories  \\\n",
       "0     9780313309335 Wherever vampires existed in the...          Nonfiction   \n",
       "1     9780020442608 The \"Dawn Treader\" is the first ...  Children's Fiction   \n",
       "2     9780719071157 Neither naively optimistic nor h...          Nonfiction   \n",
       "3     9780373483372 Everyone in Amen Flats is shocke...             Fiction   \n",
       "4     9781904633273 Timeless in its evocation of ide...                 NaN   \n",
       "...                                                 ...                 ...   \n",
       "2593  9780618254118 A new historian of Mary Queen of...          Nonfiction   \n",
       "2594  9780345441034 A retired Los Angeles homicide d...             Fiction   \n",
       "2595  9780810954809 Thirteen-year-old Jamie is overj...  Children's Fiction   \n",
       "2596  9780060777333 From the winner of the National ...             Fiction   \n",
       "2597  9780764134289 (back cover) ALL THE ESSENTIALS ...                 NaN   \n",
       "\n",
       "         anger   disgust      fear       joy   sadness  surprise   neutral  \n",
       "0     0.064134  0.117609  0.169699  0.117670  0.941926  0.111690  0.078765  \n",
       "1     0.236678  0.536687  0.117072  0.063171  0.928044  0.111690  0.210309  \n",
       "2     0.064134  0.104007  0.072854  0.040564  0.549477  0.821685  0.078765  \n",
       "3     0.064134  0.104007  0.051363  0.040564  0.936846  0.111690  0.978196  \n",
       "4     0.064134  0.104007  0.051363  0.931885  0.885922  0.111690  0.078765  \n",
       "...        ...       ...       ...       ...       ...       ...       ...  \n",
       "2593  0.064134  0.104007  0.051363  0.040564  0.807826  0.111690  0.078765  \n",
       "2594  0.064134  0.104007  0.953250  0.040564  0.950357  0.111690  0.078765  \n",
       "2595  0.064134  0.104007  0.051363  0.989315  0.549477  0.111690  0.078765  \n",
       "2596  0.102184  0.104007  0.821058  0.990095  0.549477  0.111690  0.197905  \n",
       "2597  0.070287  0.117117  0.075183  0.124826  0.933635  0.073338  0.116090  \n",
       "\n",
       "[2598 rows x 21 columns]"
      ],
      "text/html": [
       "<div>\n",
       "<style scoped>\n",
       "    .dataframe tbody tr th:only-of-type {\n",
       "        vertical-align: middle;\n",
       "    }\n",
       "\n",
       "    .dataframe tbody tr th {\n",
       "        vertical-align: top;\n",
       "    }\n",
       "\n",
       "    .dataframe thead th {\n",
       "        text-align: right;\n",
       "    }\n",
       "</style>\n",
       "<table border=\"1\" class=\"dataframe\">\n",
       "  <thead>\n",
       "    <tr style=\"text-align: right;\">\n",
       "      <th></th>\n",
       "      <th>isbn13</th>\n",
       "      <th>isbn10</th>\n",
       "      <th>title</th>\n",
       "      <th>authors</th>\n",
       "      <th>categories</th>\n",
       "      <th>thumbnail</th>\n",
       "      <th>description</th>\n",
       "      <th>published_year</th>\n",
       "      <th>average_rating</th>\n",
       "      <th>num_pages</th>\n",
       "      <th>...</th>\n",
       "      <th>title_and_subtitle</th>\n",
       "      <th>tagged_description</th>\n",
       "      <th>simple_categories</th>\n",
       "      <th>anger</th>\n",
       "      <th>disgust</th>\n",
       "      <th>fear</th>\n",
       "      <th>joy</th>\n",
       "      <th>sadness</th>\n",
       "      <th>surprise</th>\n",
       "      <th>neutral</th>\n",
       "    </tr>\n",
       "  </thead>\n",
       "  <tbody>\n",
       "    <tr>\n",
       "      <th>0</th>\n",
       "      <td>9780313309335</td>\n",
       "      <td>0313309337</td>\n",
       "      <td>The Fantastic Vampire</td>\n",
       "      <td>James Craig Holte</td>\n",
       "      <td>Literary Criticism</td>\n",
       "      <td>http://books.google.com/books/content?id=mpmrW...</td>\n",
       "      <td>Wherever vampires existed in the imaginations ...</td>\n",
       "      <td>2002.0</td>\n",
       "      <td>0.00</td>\n",
       "      <td>176.0</td>\n",
       "      <td>...</td>\n",
       "      <td>The Fantastic Vampire: Studies in the Children...</td>\n",
       "      <td>9780313309335 Wherever vampires existed in the...</td>\n",
       "      <td>Nonfiction</td>\n",
       "      <td>0.064134</td>\n",
       "      <td>0.117609</td>\n",
       "      <td>0.169699</td>\n",
       "      <td>0.117670</td>\n",
       "      <td>0.941926</td>\n",
       "      <td>0.111690</td>\n",
       "      <td>0.078765</td>\n",
       "    </tr>\n",
       "    <tr>\n",
       "      <th>1</th>\n",
       "      <td>9780020442608</td>\n",
       "      <td>0020442602</td>\n",
       "      <td>The voyage of the Dawn Treader</td>\n",
       "      <td>Clive Staples Lewis</td>\n",
       "      <td>Juvenile Fiction</td>\n",
       "      <td>http://books.google.com/books/content?id=fDD3C...</td>\n",
       "      <td>The \"Dawn Treader\" is the first ship Narnia ha...</td>\n",
       "      <td>1970.0</td>\n",
       "      <td>4.09</td>\n",
       "      <td>216.0</td>\n",
       "      <td>...</td>\n",
       "      <td>The voyage of the Dawn Treader</td>\n",
       "      <td>9780020442608 The \"Dawn Treader\" is the first ...</td>\n",
       "      <td>Children's Fiction</td>\n",
       "      <td>0.236678</td>\n",
       "      <td>0.536687</td>\n",
       "      <td>0.117072</td>\n",
       "      <td>0.063171</td>\n",
       "      <td>0.928044</td>\n",
       "      <td>0.111690</td>\n",
       "      <td>0.210309</td>\n",
       "    </tr>\n",
       "    <tr>\n",
       "      <th>2</th>\n",
       "      <td>9780719071157</td>\n",
       "      <td>0719071151</td>\n",
       "      <td>A Farewell to Arms?</td>\n",
       "      <td>Michael Cox;Adrian Guelke;Fiona Stephen</td>\n",
       "      <td>History</td>\n",
       "      <td>http://books.google.com/books/content?id=G5wuw...</td>\n",
       "      <td>Neither naively optimistic nor hopelessley pes...</td>\n",
       "      <td>2006.0</td>\n",
       "      <td>4.33</td>\n",
       "      <td>624.0</td>\n",
       "      <td>...</td>\n",
       "      <td>A Farewell to Arms?: Beyond the Good Friday Ag...</td>\n",
       "      <td>9780719071157 Neither naively optimistic nor h...</td>\n",
       "      <td>Nonfiction</td>\n",
       "      <td>0.064134</td>\n",
       "      <td>0.104007</td>\n",
       "      <td>0.072854</td>\n",
       "      <td>0.040564</td>\n",
       "      <td>0.549477</td>\n",
       "      <td>0.821685</td>\n",
       "      <td>0.078765</td>\n",
       "    </tr>\n",
       "    <tr>\n",
       "      <th>3</th>\n",
       "      <td>9780373483372</td>\n",
       "      <td>0373483376</td>\n",
       "      <td>Tallchief for Keeps</td>\n",
       "      <td>Cait London</td>\n",
       "      <td>Fiction</td>\n",
       "      <td>http://books.google.com/books/content?id=Vn8lm...</td>\n",
       "      <td>Everyone in Amen Flats is shocked when prim El...</td>\n",
       "      <td>1997.0</td>\n",
       "      <td>4.22</td>\n",
       "      <td>296.0</td>\n",
       "      <td>...</td>\n",
       "      <td>Tallchief for Keeps</td>\n",
       "      <td>9780373483372 Everyone in Amen Flats is shocke...</td>\n",
       "      <td>Fiction</td>\n",
       "      <td>0.064134</td>\n",
       "      <td>0.104007</td>\n",
       "      <td>0.051363</td>\n",
       "      <td>0.040564</td>\n",
       "      <td>0.936846</td>\n",
       "      <td>0.111690</td>\n",
       "      <td>0.978196</td>\n",
       "    </tr>\n",
       "    <tr>\n",
       "      <th>4</th>\n",
       "      <td>9781904633273</td>\n",
       "      <td>1904633277</td>\n",
       "      <td>Little Women</td>\n",
       "      <td>Louisa May Alcott</td>\n",
       "      <td>Family life</td>\n",
       "      <td>http://books.google.com/books/content?id=lH7BZ...</td>\n",
       "      <td>Timeless in its evocation of idealised family ...</td>\n",
       "      <td>2004.0</td>\n",
       "      <td>4.06</td>\n",
       "      <td>327.0</td>\n",
       "      <td>...</td>\n",
       "      <td>Little Women</td>\n",
       "      <td>9781904633273 Timeless in its evocation of ide...</td>\n",
       "      <td>NaN</td>\n",
       "      <td>0.064134</td>\n",
       "      <td>0.104007</td>\n",
       "      <td>0.051363</td>\n",
       "      <td>0.931885</td>\n",
       "      <td>0.885922</td>\n",
       "      <td>0.111690</td>\n",
       "      <td>0.078765</td>\n",
       "    </tr>\n",
       "    <tr>\n",
       "      <th>...</th>\n",
       "      <td>...</td>\n",
       "      <td>...</td>\n",
       "      <td>...</td>\n",
       "      <td>...</td>\n",
       "      <td>...</td>\n",
       "      <td>...</td>\n",
       "      <td>...</td>\n",
       "      <td>...</td>\n",
       "      <td>...</td>\n",
       "      <td>...</td>\n",
       "      <td>...</td>\n",
       "      <td>...</td>\n",
       "      <td>...</td>\n",
       "      <td>...</td>\n",
       "      <td>...</td>\n",
       "      <td>...</td>\n",
       "      <td>...</td>\n",
       "      <td>...</td>\n",
       "      <td>...</td>\n",
       "      <td>...</td>\n",
       "      <td>...</td>\n",
       "    </tr>\n",
       "    <tr>\n",
       "      <th>2593</th>\n",
       "      <td>9780618254118</td>\n",
       "      <td>0618254110</td>\n",
       "      <td>Queen of Scots</td>\n",
       "      <td>John Alexander Guy</td>\n",
       "      <td>History</td>\n",
       "      <td>http://books.google.com/books/content?id=PmqqA...</td>\n",
       "      <td>A new historian of Mary Queen of Scots draws o...</td>\n",
       "      <td>2004.0</td>\n",
       "      <td>3.95</td>\n",
       "      <td>581.0</td>\n",
       "      <td>...</td>\n",
       "      <td>Queen of Scots: The True Life of Mary Stuart</td>\n",
       "      <td>9780618254118 A new historian of Mary Queen of...</td>\n",
       "      <td>Nonfiction</td>\n",
       "      <td>0.064134</td>\n",
       "      <td>0.104007</td>\n",
       "      <td>0.051363</td>\n",
       "      <td>0.040564</td>\n",
       "      <td>0.807826</td>\n",
       "      <td>0.111690</td>\n",
       "      <td>0.078765</td>\n",
       "    </tr>\n",
       "    <tr>\n",
       "      <th>2594</th>\n",
       "      <td>9780345441034</td>\n",
       "      <td>0345441036</td>\n",
       "      <td>Black House</td>\n",
       "      <td>Stephen King;Peter Straub</td>\n",
       "      <td>Fiction</td>\n",
       "      <td>http://books.google.com/books/content?id=SdqhE...</td>\n",
       "      <td>A retired Los Angeles homicide detective livin...</td>\n",
       "      <td>2001.0</td>\n",
       "      <td>4.00</td>\n",
       "      <td>659.0</td>\n",
       "      <td>...</td>\n",
       "      <td>Black House</td>\n",
       "      <td>9780345441034 A retired Los Angeles homicide d...</td>\n",
       "      <td>Fiction</td>\n",
       "      <td>0.064134</td>\n",
       "      <td>0.104007</td>\n",
       "      <td>0.953250</td>\n",
       "      <td>0.040564</td>\n",
       "      <td>0.950357</td>\n",
       "      <td>0.111690</td>\n",
       "      <td>0.078765</td>\n",
       "    </tr>\n",
       "    <tr>\n",
       "      <th>2595</th>\n",
       "      <td>9780810954809</td>\n",
       "      <td>081095480X</td>\n",
       "      <td>The Lighthouse Land</td>\n",
       "      <td>Adrian McKinty</td>\n",
       "      <td>Juvenile Fiction</td>\n",
       "      <td>http://books.google.com/books/content?id=dhRJA...</td>\n",
       "      <td>Thirteen-year-old Jamie is overjoyed when a be...</td>\n",
       "      <td>2006.0</td>\n",
       "      <td>3.60</td>\n",
       "      <td>372.0</td>\n",
       "      <td>...</td>\n",
       "      <td>The Lighthouse Land</td>\n",
       "      <td>9780810954809 Thirteen-year-old Jamie is overj...</td>\n",
       "      <td>Children's Fiction</td>\n",
       "      <td>0.064134</td>\n",
       "      <td>0.104007</td>\n",
       "      <td>0.051363</td>\n",
       "      <td>0.989315</td>\n",
       "      <td>0.549477</td>\n",
       "      <td>0.111690</td>\n",
       "      <td>0.078765</td>\n",
       "    </tr>\n",
       "    <tr>\n",
       "      <th>2596</th>\n",
       "      <td>9780060777333</td>\n",
       "      <td>0060777338</td>\n",
       "      <td>The Cat's Pajamas</td>\n",
       "      <td>Ray Bradbury</td>\n",
       "      <td>Fiction</td>\n",
       "      <td>http://books.google.com/books/content?id=Xb6MU...</td>\n",
       "      <td>From the winner of the National Book Foundatio...</td>\n",
       "      <td>2005.0</td>\n",
       "      <td>3.73</td>\n",
       "      <td>234.0</td>\n",
       "      <td>...</td>\n",
       "      <td>The Cat's Pajamas: Stories</td>\n",
       "      <td>9780060777333 From the winner of the National ...</td>\n",
       "      <td>Fiction</td>\n",
       "      <td>0.102184</td>\n",
       "      <td>0.104007</td>\n",
       "      <td>0.821058</td>\n",
       "      <td>0.990095</td>\n",
       "      <td>0.549477</td>\n",
       "      <td>0.111690</td>\n",
       "      <td>0.197905</td>\n",
       "    </tr>\n",
       "    <tr>\n",
       "      <th>2597</th>\n",
       "      <td>9780764134289</td>\n",
       "      <td>0764134280</td>\n",
       "      <td>American Sign Language The Easy Way</td>\n",
       "      <td>David A. Stewart;Elizabeth Stewart;Jessalyn Li...</td>\n",
       "      <td>Language Arts &amp; Disciplines</td>\n",
       "      <td>http://books.google.com/books/content?id=QrR4_...</td>\n",
       "      <td>(back cover) ALL THE ESSENTIALS IN ONE CLEAR V...</td>\n",
       "      <td>2006.0</td>\n",
       "      <td>3.72</td>\n",
       "      <td>480.0</td>\n",
       "      <td>...</td>\n",
       "      <td>American Sign Language The Easy Way</td>\n",
       "      <td>9780764134289 (back cover) ALL THE ESSENTIALS ...</td>\n",
       "      <td>NaN</td>\n",
       "      <td>0.070287</td>\n",
       "      <td>0.117117</td>\n",
       "      <td>0.075183</td>\n",
       "      <td>0.124826</td>\n",
       "      <td>0.933635</td>\n",
       "      <td>0.073338</td>\n",
       "      <td>0.116090</td>\n",
       "    </tr>\n",
       "  </tbody>\n",
       "</table>\n",
       "<p>2598 rows × 21 columns</p>\n",
       "</div>"
      ]
     },
     "execution_count": 25,
     "metadata": {},
     "output_type": "execute_result"
    }
   ],
   "execution_count": 25
  },
  {
   "metadata": {
    "ExecuteTime": {
     "end_time": "2025-10-08T10:04:10.733141Z",
     "start_time": "2025-10-08T10:04:10.417027Z"
    }
   },
   "cell_type": "code",
   "source": "books.to_csv(\"books_with_emotions.csv\", index = False)",
   "id": "7b64bc49c02c3741",
   "outputs": [],
   "execution_count": 26
  }
 ],
 "metadata": {
  "kernelspec": {
   "display_name": "Python 3",
   "language": "python",
   "name": "python3"
  },
  "language_info": {
   "codemirror_mode": {
    "name": "ipython",
    "version": 2
   },
   "file_extension": ".py",
   "mimetype": "text/x-python",
   "name": "python",
   "nbconvert_exporter": "python",
   "pygments_lexer": "ipython2",
   "version": "2.7.6"
  }
 },
 "nbformat": 4,
 "nbformat_minor": 5
}
